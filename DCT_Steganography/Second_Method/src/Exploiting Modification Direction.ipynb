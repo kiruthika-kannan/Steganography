{
 "cells": [
  {
   "cell_type": "code",
   "execution_count": 31,
   "metadata": {},
   "outputs": [
    {
     "name": "stdout",
     "output_type": "stream",
     "text": [
      "ascii value of secret data [102 108 121 104 105 103 104]\n",
      "length of secret data 7\n",
      "7\n",
      "3 4\n"
     ]
    }
   ],
   "source": [
    "import numpy as np\n",
    "import cv2\n",
    "\n",
    "img = cv2.imread('../input/mandril_color.tif',cv2.IMREAD_GRAYSCALE)\n",
    "rows , cols = img.shape\n",
    "img_copy = img.copy()\n",
    "#print(img)\n",
    "secret = 31\n",
    "\n",
    "secret_text = ['fly','high' ]\n",
    "asciival = []\n",
    "asciival = [ord(ch) for word in secret_text for ch in word]\n",
    "\n",
    "secret_arr = np.array(asciival)\n",
    "print('ascii value of secret data', secret_arr)\n",
    "\n",
    "print('length of secret data', len(secret_arr))\n",
    "s_len= len(secret_arr)\n",
    "print(l)\n",
    "n =4\n",
    "\n",
    "smod = secret%(2*n+1)\n",
    "a,b = divmod(secret, 2*n+1)\n",
    "print(a,b)\n"
   ]
  },
  {
   "cell_type": "code",
   "execution_count": 29,
   "metadata": {},
   "outputs": [],
   "source": [
    "def emd_embedding(image):\n",
    "    femdsum = 0\n",
    "    t=0\n",
    "    for i in range(0,rows-1,n):\n",
    "            for j in range(0,cols-1,n):\n",
    "                t = t+1\n",
    "                if (t<=s_len):\n",
    "                    p = 0\n",
    "                    blk = image[i:i+n,j:j+n]\n",
    "                    for k in range(0,n):\n",
    "                        for l in range(0,n):\n",
    "                            p = p+1\n",
    "                            femdsum = femdsum + blk[k,l]*p\n",
    "                    femd =  femdsum%(2*n+1)     \n",
    "                    print('femd',femd)\n",
    "                    d = (smod - femd)%(2*n+1)\n",
    "                    #print(d)\n",
    "                    if (d == 0):\n",
    "                        image[i:i+n,j:j+n] = blk\n",
    "                    elif (d <=n):\n",
    "                        u,v  = divmod(d, n)\n",
    "                        blk[u,v] = blk[u,v] +1\n",
    "                        image[i:i+n,j:j+n] = blk\n",
    "                    else:\n",
    "                        d_prime = 2*n+1-d\n",
    "                        u,v =  divmod(d_prime, n)\n",
    "                        blk[u,v] = blk[u,v] -1\n",
    "                        image[i:i+n,j:j+n] = blk\n",
    "\n",
    "\n",
    "    cv2.imwrite(\"../output/Stego.tif\",img_copy)\n",
    "\n",
    "                \n",
    "                \n",
    "                #print(u,v,d)\n",
    "                \n",
    "                    \n",
    "            \n",
    "           # print(blk)"
   ]
  },
  {
   "cell_type": "code",
   "execution_count": 30,
   "metadata": {},
   "outputs": [
    {
     "name": "stdout",
     "output_type": "stream",
     "text": [
      "1\n",
      "1\n",
      "4\n",
      "1\n",
      "5\n",
      "2\n",
      "7\n"
     ]
    }
   ],
   "source": [
    "# print(2*n+1)\n",
    "# print ((1-5)%7)\n",
    "emd_embedding(img_copy)\n"
   ]
  },
  {
   "cell_type": "code",
   "execution_count": 38,
   "metadata": {},
   "outputs": [],
   "source": [
    "img_stego = cv2.imread('../output/Stego.tif',cv2.IMREAD_GRAYSCALE)\n",
    "rows1 , cols1 = img_stego.shape\n",
    "smod_ex = 0\n",
    "\n",
    "def emd_extraction(image):\n",
    "    t=0\n",
    "    femdsum_ex = 0\n",
    "    for i in range(0,rows1-1,n):\n",
    "        for j in range(0,cols1-1,n):\n",
    "            t = t+1\n",
    "            if (t<=s_len):\n",
    "                p = 0\n",
    "                blk = image[i:i+n,j:j+n]\n",
    "                for k in range(0,n):\n",
    "                    for l in range(0,n):\n",
    "                        p = p+1\n",
    "                        femdsum_ex = femdsum_ex + blk[k,l]*p\n",
    "                femd =  femdsum_ex%(2*n+1)     \n",
    "                smod_ex = femd\n",
    "                \n",
    "                print('mod value of  secret ascii with (2n+1)', smod_ex)\n",
    "    \n",
    "    "
   ]
  },
  {
   "cell_type": "code",
   "execution_count": 39,
   "metadata": {},
   "outputs": [
    {
     "name": "stdout",
     "output_type": "stream",
     "text": [
      "mod value of  secret ascii with (2n+1) 5\n",
      "mod value of  secret ascii with (2n+1) 0\n",
      "mod value of  secret ascii with (2n+1) 3\n",
      "mod value of  secret ascii with (2n+1) 4\n",
      "mod value of  secret ascii with (2n+1) 6\n",
      "mod value of  secret ascii with (2n+1) 6\n",
      "mod value of  secret ascii with (2n+1) 7\n"
     ]
    }
   ],
   "source": [
    "emd_extraction(img_stego)"
   ]
  }
 ],
 "metadata": {
  "kernelspec": {
   "display_name": "Python 3",
   "language": "python",
   "name": "python3"
  },
  "language_info": {
   "codemirror_mode": {
    "name": "ipython",
    "version": 3
   },
   "file_extension": ".py",
   "mimetype": "text/x-python",
   "name": "python",
   "nbconvert_exporter": "python",
   "pygments_lexer": "ipython3",
   "version": "3.6.5"
  }
 },
 "nbformat": 4,
 "nbformat_minor": 2
}
