{
 "cells": [
  {
   "cell_type": "code",
   "execution_count": 1,
   "metadata": {},
   "outputs": [],
   "source": [
    "import numpy as np\n",
    "import cv2\n",
    "import math\n",
    "\n",
    "img_stego = cv2.imread('../output/Sparse_lena_stego.tif',cv2.IMREAD_GRAYSCALE)\n",
    "rows , cols = img_stego.shape\n",
    "img_stego_copy = img_stego.copy()\n",
    "# print(type(img), img.shape)\n",
    "\n",
    "# img_label = np.zeros((rows,cols), dtype = np.uint8)#array for labels\n",
    "# print(img_label.shape)\n",
    "\n",
    "# #print(img)\n",
    "\n",
    "\n",
    "# secret_text = ['conference' ]\n",
    "# asciival = []\n",
    "# asciival = [ord(ch) for word in secret_text for ch in word]\n",
    "\n",
    "# secret_arr = np.array(asciival)\n",
    "# print('ascii value of secret data', secret_arr)\n",
    "\n",
    "# print('length of secret data', len(secret_arr))\n",
    "# s_len= len(secret_arr)\n",
    "\n",
    "\n"
   ]
  },
  {
   "cell_type": "code",
   "execution_count": 2,
   "metadata": {},
   "outputs": [],
   "source": [
    "def euclidean(pixel1, pixel2):\n",
    "    '''calculate the euclidean distance\n",
    "    input: numpy.arrays or lists\n",
    "    return: euclidean distance\n",
    "    '''\n",
    "    dist = [(a - b)**2 for a, b in zip(pixel1, pixel2)]\n",
    "    dist = math.sqrt(sum(dist))    \n",
    "   \n",
    "    return dist\n",
    "\n",
    "#euclidean([0,0],[1,1])\n",
    " "
   ]
  },
  {
   "cell_type": "code",
   "execution_count": 5,
   "metadata": {},
   "outputs": [],
   "source": [
    "# prints intensities in range[0 to 255] with corresponding pixel count\n",
    "def histogram(img):\n",
    "    height = img.shape[0]\n",
    "    width = img.shape[1]\n",
    "\n",
    "    hist = np.zeros((256,),dtype='int')\n",
    "    #print(hist.shape)   \n",
    "    \n",
    "    for i in np.arange(height):\n",
    "        for j in np.arange(width):\n",
    "            a = img.item(i,j)\n",
    "            #print(a)\n",
    "            hist[a] = hist[a]+1\n",
    "    #print('Frequency count for Intensity range 0 to 255 :\\n', hist)        \n",
    "    return hist\n",
    "    \n",
    "\n",
    "t_hist = histogram(img_stego_copy)\n",
    "#print(type(t))\n",
    "#print(len(t))"
   ]
  },
  {
   "cell_type": "raw",
   "metadata": {},
   "source": [
    "One line compact if and else\n",
    "L = [mapping-expression for element in source-list if filter-expression]\n",
    "\n",
    "Example:\n",
    "[i for i in range(10) if i%2==0]\n"
   ]
  },
  {
   "cell_type": "code",
   "execution_count": 6,
   "metadata": {},
   "outputs": [
    {
     "name": "stdout",
     "output_type": "stream",
     "text": [
      "frequencies with pixel counts less than 2 [0, 0, 0, 0, 0, 0, 0, 0, 0, 0, 0, 0, 0, 0, 0, 0, 0, 0, 0, 0, 0, 0, 0, 0, 0, 0, 0, 0, 0, 0, 0, 0, 0, 0, 0, 0, 0, 0, 0, 0, 0, 0, 0, 0, 0, 0, 0, 0, 0, 0, 0, 0, 0, 1, 0, 0, 0, 0, 0, 0, 0, 0, 0, 0, 0, 0, 0, 0, 0, 0, 0, 0, 0, 0, 0, 0, 0, 0, 0]\n",
      "<class 'numpy.ndarray'>\n",
      "intensities with pixel count less than 2 [  0   1   2   3   4   5   6   7   8   9  10  11  12  13  14  15  16  17\n",
      "  18  19  20  21  22  23  24  25  26  27  28  29  30  31  32  33  34  35\n",
      "  36  37  39  40  41  42  43  44  47 219 222 223 225 226 227 228 229 230\n",
      " 231 232 233 234 235 236 237 238 239 240 241 242 243 244 245 246 247 248\n",
      " 249 250 251 252 253 254 255]\n"
     ]
    }
   ],
   "source": [
    "#intensity list of sparse pixels\n",
    "thresh = 2\n",
    "thresholded_freq_arr  = [val for val in t_hist if val < thresh ]\n",
    "print('frequencies with pixel counts less than 2',thresholded_freq_arr)\n",
    "\n",
    "intensity_thresh_list = list()\n",
    "for i in range(0, len(t_hist)):\n",
    "    val = t_hist[i]\n",
    "    if val<thresh:\n",
    "        intensity_thresh_list.append(i)   \n",
    "\n",
    "intensity_thresh_arr = np.array(intensity_thresh_list)\n",
    "print(type(intensity_thresh_arr))\n",
    "print('intensities with pixel count less than 2',intensity_thresh_arr) "
   ]
  },
  {
   "cell_type": "code",
   "execution_count": 7,
   "metadata": {},
   "outputs": [],
   "source": [
    "#Create empty secret array\n",
    "s_len =10\n",
    "z1 = np.empty(s_len , dtype = '<U10')        "
   ]
  },
  {
   "cell_type": "code",
   "execution_count": 8,
   "metadata": {},
   "outputs": [],
   "source": [
    "#LSB substitution for sparse pixels with large euclidean distance\n",
    "def emd_extraction(image):\n",
    "    t =0\n",
    "    distance = 0\n",
    "    for k in range(0,rows):\n",
    "        for l in range(0,cols):\n",
    "            for m in range(k,rows):\n",
    "                for n in range(l,cols):\n",
    "                    #print(image[m,n] in intensity_thresh_arr)\n",
    "                    if (image[k,l] in intensity_thresh_arr) and (image[m,n] in intensity_thresh_arr):\n",
    "                        distance = euclidean([k,l],[m,n])\n",
    "                        print('in distance',distance)\n",
    "                    if t == s_len:\n",
    "                        print('in t == s_len')\n",
    "                        break\n",
    "                        #t = 0\n",
    "                    #print(t,distance)\n",
    "                    #lsb substitution\n",
    "                    #if((distance>400) and (image[k,l] in intensity_thresh_arr) and (image[m,n] in intensity_thresh_arr) and (t<s_len)):\n",
    "                    if((image[k,l] in intensity_thresh_arr) and (image[m,n] in intensity_thresh_arr) and (t<s_len)):\n",
    "                        z2 = image[m,n]\n",
    "                        z2_bin = format(z2, \"08b\")\n",
    "                        z2_bin_msb = z2_bin[0:4]\n",
    "                        z2_bin_lsb = z2_bin[4:8] \n",
    "                        z2_bin_split = z2_bin_msb + '0000'#reconstructed image pixel\n",
    "                        z1[t] = z2_bin_lsb + '0000'#Reconstructed secret data\n",
    "                        \n",
    "                        image[m,n]=int(z2_bin_split, 2)\n",
    "                        print([m,n])\n",
    "                        print(z2,int(z2_bin_split, 2))\n",
    "                        print(z2_bin_split,z1[t],t)\n",
    "                        t=t+1\n",
    "            if t == s_len:\n",
    "                break  \n",
    "    return image , z1\n",
    "\n",
    "# \n",
    "        "
   ]
  },
  {
   "cell_type": "code",
   "execution_count": 9,
   "metadata": {},
   "outputs": [
    {
     "name": "stdout",
     "output_type": "stream",
     "text": [
      "in distance 0.0\n",
      "[5, 54]\n",
      "230 224\n",
      "11100000 01100000 0\n",
      "[[159 156 157 ... 126 122 138]\n",
      " [156 156 156 ... 129 102  53]\n",
      " [154 156 157 ...  97  55  54]\n",
      " ...\n",
      " [ 71 102 170 ... 100  70  65]\n",
      " [ 61  82 175 ...  86  62  61]\n",
      " [ 54  70 190 ...  61  63  92]] ['01100000' '' '' '' '' '' '' '' '' '']\n"
     ]
    }
   ],
   "source": [
    "img_ex, z1_ex =  emd_extraction(img_stego_copy)\n",
    "print(img_ex, z1_ex)"
   ]
  },
  {
   "cell_type": "code",
   "execution_count": 19,
   "metadata": {},
   "outputs": [
    {
     "name": "stdout",
     "output_type": "stream",
     "text": [
      "\n",
      "96\n",
      "[96  0  0  0  0  0  0  0  0  0]\n"
     ]
    }
   ],
   "source": [
    "print(z1_ex[1])\n",
    "secret_out = np.zeros(s_len , np.int)\n",
    "print(int(z1_ex[0],2))\n",
    "\n",
    "for x in range(0, s_len):\n",
    "    if z1_ex[x] not in '':\n",
    "        #print('loop')\n",
    "        secret_out[x] = int(z1_ex[x],2)\n",
    "        \n",
    "print(secret_out)"
   ]
  },
  {
   "cell_type": "code",
   "execution_count": 15,
   "metadata": {},
   "outputs": [],
   "source": [
    "#print(int('' , 2))"
   ]
  }
 ],
 "metadata": {
  "kernelspec": {
   "display_name": "Python 3",
   "language": "python",
   "name": "python3"
  },
  "language_info": {
   "codemirror_mode": {
    "name": "ipython",
    "version": 3
   },
   "file_extension": ".py",
   "mimetype": "text/x-python",
   "name": "python",
   "nbconvert_exporter": "python",
   "pygments_lexer": "ipython3",
   "version": "3.6.5"
  }
 },
 "nbformat": 4,
 "nbformat_minor": 2
}
