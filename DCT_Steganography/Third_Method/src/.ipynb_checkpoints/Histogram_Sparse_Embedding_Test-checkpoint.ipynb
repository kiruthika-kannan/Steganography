{
 "cells": [
  {
   "cell_type": "code",
   "execution_count": 2,
   "metadata": {},
   "outputs": [],
   "source": [
    "import numpy as np\n",
    "import cv2\n",
    "import math"
   ]
  },
  {
   "cell_type": "code",
   "execution_count": 3,
   "metadata": {},
   "outputs": [
    {
     "name": "stdout",
     "output_type": "stream",
     "text": [
      "<class 'numpy.ndarray'> (64, 64)\n",
      "[[159 156 157 ... 126 122 138]\n",
      " [156 156 156 ... 129 102  53]\n",
      " [154 156 157 ...  97  55  54]\n",
      " ...\n",
      " [ 71 102 170 ... 100  70  65]\n",
      " [ 61  82 175 ...  86  62  61]\n",
      " [ 54  70 190 ...  61  63  92]]\n",
      "ascii value of secret data [ 99 111 110 102 101 114 101 110  99 101]\n",
      "length of secret data 10\n"
     ]
    }
   ],
   "source": [
    "#img = cv2.imread('../input/lotus.jpg',cv2.IMREAD_GRAYSCALE)\n",
    "img = cv2.imread('../input/lena_re.jpg',cv2.IMREAD_GRAYSCALE)\n",
    "rows , cols = img.shape\n",
    "img_copy = img.copy()\n",
    "print(type(img), img.shape)\n",
    "print(img)\n",
    "img_label = np.zeros((rows,cols), dtype = np.uint8)#array for labels\n",
    "#print(img_label.shape)\n",
    "\n",
    "#print(img)\n",
    "\n",
    "\n",
    "secret_text = ['conference' ]\n",
    "asciival = []\n",
    "asciival = [ord(ch) for word in secret_text for ch in word]\n",
    "\n",
    "secret_arr = np.array(asciival)\n",
    "print('ascii value of secret data', secret_arr)\n",
    "\n",
    "print('length of secret data', len(secret_arr))\n",
    "s_len= len(secret_arr)"
   ]
  },
  {
   "cell_type": "code",
   "execution_count": 4,
   "metadata": {},
   "outputs": [
    {
     "name": "stdout",
     "output_type": "stream",
     "text": [
      "['01100011' '01101111' '01101110' '01100110' '01100101' '01110010'\n",
      " '01100101' '01101110' '01100011' '01100101'] <class 'numpy.str_'>\n"
     ]
    }
   ],
   "source": [
    "#Decimal to binary\n",
    "\n",
    "z1 = np.empty(s_len , dtype = '<U10')\n",
    "#z1 =  format(secret_arr[0], \"08b\")\n",
    "for x in range (0, s_len):\n",
    "    z1[x] = format(secret_arr[x], '08b')\n",
    "    \n",
    "print(z1, type(z1[0]))    \n",
    "    \n",
    "\n",
    "# z1_a = np.array(z1)\n",
    "# print(z1_a ,type(z1_a))"
   ]
  },
  {
   "cell_type": "code",
   "execution_count": 5,
   "metadata": {},
   "outputs": [],
   "source": [
    "def euclidean(pixel1, pixel2):\n",
    "    '''calculate the euclidean distance\n",
    "    input: numpy.arrays or lists\n",
    "    return: euclidean distance\n",
    "    '''\n",
    "    dist = [(a - b)**2 for a, b in zip(pixel1, pixel2)]\n",
    "    dist = math.sqrt(sum(dist))    \n",
    "   \n",
    "    return dist\n",
    "\n",
    "#euclidean([0,0],[1,1])\n",
    " "
   ]
  },
  {
   "cell_type": "code",
   "execution_count": 6,
   "metadata": {},
   "outputs": [
    {
     "name": "stdout",
     "output_type": "stream",
     "text": [
      "length of t_hist 256\n"
     ]
    }
   ],
   "source": [
    "# prints intensities in range[0 to 255] with corresponding pixel count\n",
    "def histogram(img):\n",
    "    height = img.shape[0]\n",
    "    width = img.shape[1]\n",
    "    \n",
    "    hist = np.zeros((256,),dtype='int')\n",
    "    #print(hist.shape)   \n",
    "    \n",
    "    for i in np.arange(height):\n",
    "        for j in np.arange(width):\n",
    "            a = img.item(i,j)\n",
    "            #print(a)\n",
    "            hist[a] = hist[a]+1\n",
    "    #print('Frequency count for Intensity range 0 to 255 :\\n', hist)        \n",
    "    return hist\n",
    "    \n",
    "t_hist = histogram(img_copy)\n",
    "#print(type(t))\n",
    "print('length of t_hist',len(t_hist))"
   ]
  },
  {
   "cell_type": "raw",
   "metadata": {},
   "source": [
    "One line compact if and else\n",
    "L = [mapping-expression for element in source-list if filter-expression]\n",
    "\n",
    "Example:\n",
    "[i for i in range(10) if i%2==0]\n"
   ]
  },
  {
   "cell_type": "code",
   "execution_count": 7,
   "metadata": {},
   "outputs": [
    {
     "name": "stdout",
     "output_type": "stream",
     "text": [
      "frequencies with pixel counts less than 300 [0, 0, 0, 0, 0, 0, 0, 0, 0, 0, 0, 0, 0, 0, 0, 0, 0, 0, 0, 0, 0, 0, 0, 0, 0, 0, 0, 0, 0, 0, 0, 0, 0, 0, 0, 0, 0, 0, 0, 0, 0, 0, 0, 0, 1, 1, 0, 0, 0, 1, 0, 0, 0, 0, 0, 0, 0, 0, 0, 0, 0, 0, 0, 0, 0, 0, 0, 0, 0, 0, 0, 0, 0, 0, 0, 0, 0, 0, 0, 0]\n",
      "<class 'numpy.ndarray'>\n",
      "intensities with pixel count less than 300 [  0   1   2   3   4   5   6   7   8   9  10  11  12  13  14  15  16  17\n",
      "  18  19  20  21  22  23  24  25  26  27  28  29  30  31  32  33  34  35\n",
      "  36  37  38  39  40  41  42  43  44  47 219 222 223 225 226 227 228 229\n",
      " 230 231 232 233 234 235 236 237 238 239 240 241 242 243 244 245 246 247\n",
      " 248 249 250 251 252 253 254 255]\n"
     ]
    }
   ],
   "source": [
    "#How to find sparese pixels?\n",
    "\n",
    "#thresh = 300#no of pixels\n",
    "thresh = 2\n",
    "thresholded_freq_arr  = [val for val in t_hist if val < thresh ]\n",
    "print('frequencies with pixel counts less than 300',thresholded_freq_arr)\n",
    "\n",
    "#intensity list of sparse pixels\n",
    "intensity_thresh_list = list()\n",
    "for i in range(0, len(t_hist)):\n",
    "    val = t_hist[i]\n",
    "    if val<thresh:\n",
    "        intensity_thresh_list.append(i)   \n",
    "\n",
    "intensity_thresh_arr = np.array(intensity_thresh_list)\n",
    "print(type(intensity_thresh_arr))\n",
    "print('intensities with pixel count less than 300',intensity_thresh_arr) \n"
   ]
  },
  {
   "cell_type": "code",
   "execution_count": 16,
   "metadata": {},
   "outputs": [],
   "source": [
    "# for i in range(0,rows):\n",
    "#      for j in range(0,cols):\n",
    "#         if img_copy[i,j] in thresholded_intensity:\n",
    "#             img_label[i,j] = 1\n",
    "            \n",
    "#print(img_label)            "
   ]
  },
  {
   "cell_type": "code",
   "execution_count": 12,
   "metadata": {},
   "outputs": [],
   "source": [
    "#LSB substitution for sparse pixels with large euclidean distance\n",
    "def emd_embedding(image):\n",
    "    t =0\n",
    "    distance = 0\n",
    "    for k in range(0,rows):\n",
    "        for l in range(0,cols):\n",
    "            for m in range(k,rows):\n",
    "                for n in range(l,cols):\n",
    "                    #print(image[m,n] in intensity_thresh_arr)\n",
    "                    if (image[k,l] in intensity_thresh_arr) and (image[m,n] in intensity_thresh_arr):\n",
    "                        distance = euclidean([k,l],[m,n])\n",
    "                        print('in distance',distance)\n",
    "                    if t == s_len:\n",
    "                        print('in t == s_len')\n",
    "                        break\n",
    "                        #t = 0\n",
    "                    #print(t,distance)\n",
    "                    #lsb substitution\n",
    "                    #if((distance>400) and (image[k,l] in intensity_thresh_arr) and (image[m,n] in intensity_thresh_arr) and (t<s_len)):\n",
    "                    if((image[k,l] in intensity_thresh_arr) and (image[m,n] in intensity_thresh_arr) and (t<s_len)):\n",
    "                        z2 = image[m,n]\n",
    "                        z2_bin = format(z2, \"08b\")\n",
    "                        z2_con = z2_bin[:4] + z1[t][0:4]\n",
    "                        image[m,n]=int(z2_con, 2)\n",
    "                        print([m,n])\n",
    "                        print(z2,int(z2_con, 2))\n",
    "                        print(z2_bin,z1[t],z2_con,t)\n",
    "                        t=t+1\n",
    "            if t == s_len:\n",
    "                break  \n",
    "    return image  \n",
    "                                                \n",
    "        "
   ]
  },
  {
   "cell_type": "code",
   "execution_count": 29,
   "metadata": {},
   "outputs": [],
   "source": [
    "# def emd_embedding(image):\n",
    "#     cv2.imwrite(\"../output/Sparse_stego.tif\",img_copy)\n"
   ]
  },
  {
   "cell_type": "code",
   "execution_count": 14,
   "metadata": {
    "scrolled": true
   },
   "outputs": [
    {
     "name": "stdout",
     "output_type": "stream",
     "text": [
      "in distance\n",
      "in distance\n",
      "in distance\n"
     ]
    },
    {
     "ename": "KeyboardInterrupt",
     "evalue": "",
     "output_type": "error",
     "traceback": [
      "\u001b[0;31m---------------------------------------------------------------------------\u001b[0m",
      "\u001b[0;31mKeyboardInterrupt\u001b[0m                         Traceback (most recent call last)",
      "\u001b[0;32m<ipython-input-14-27d031fdd75d>\u001b[0m in \u001b[0;36m<module>\u001b[0;34m()\u001b[0m\n\u001b[1;32m      1\u001b[0m \u001b[0;31m# print(2*n+1)\u001b[0m\u001b[0;34m\u001b[0m\u001b[0;34m\u001b[0m\u001b[0m\n\u001b[1;32m      2\u001b[0m \u001b[0;31m# print ((1-5)%7)\u001b[0m\u001b[0;34m\u001b[0m\u001b[0;34m\u001b[0m\u001b[0m\n\u001b[0;32m----> 3\u001b[0;31m \u001b[0mstego_image\u001b[0m \u001b[0;34m=\u001b[0m \u001b[0memd_embedding\u001b[0m\u001b[0;34m(\u001b[0m\u001b[0mimg_copy\u001b[0m\u001b[0;34m)\u001b[0m\u001b[0;34m\u001b[0m\u001b[0m\n\u001b[0m\u001b[1;32m      4\u001b[0m \u001b[0mprint\u001b[0m\u001b[0;34m(\u001b[0m\u001b[0mstego_image\u001b[0m\u001b[0;34m)\u001b[0m\u001b[0;34m\u001b[0m\u001b[0m\n\u001b[1;32m      5\u001b[0m \u001b[0mcv2\u001b[0m\u001b[0;34m.\u001b[0m\u001b[0mimwrite\u001b[0m\u001b[0;34m(\u001b[0m\u001b[0;34m\"../output/Sparse_stego.tif\"\u001b[0m\u001b[0;34m,\u001b[0m\u001b[0mstego_image\u001b[0m\u001b[0;34m)\u001b[0m\u001b[0;34m\u001b[0m\u001b[0m\n",
      "\u001b[0;32m<ipython-input-12-da3a302ba0c0>\u001b[0m in \u001b[0;36memd_embedding\u001b[0;34m(image)\u001b[0m\n\u001b[1;32m      8\u001b[0m                 \u001b[0;32mfor\u001b[0m \u001b[0mn\u001b[0m \u001b[0;32min\u001b[0m \u001b[0mrange\u001b[0m\u001b[0;34m(\u001b[0m\u001b[0ml\u001b[0m\u001b[0;34m,\u001b[0m\u001b[0mcols\u001b[0m\u001b[0;34m)\u001b[0m\u001b[0;34m:\u001b[0m\u001b[0;34m\u001b[0m\u001b[0m\n\u001b[1;32m      9\u001b[0m                     \u001b[0;31m#print(image[m,n] in intensity_thresh_arr)\u001b[0m\u001b[0;34m\u001b[0m\u001b[0;34m\u001b[0m\u001b[0m\n\u001b[0;32m---> 10\u001b[0;31m                     \u001b[0;32mif\u001b[0m \u001b[0;34m(\u001b[0m\u001b[0mimage\u001b[0m\u001b[0;34m[\u001b[0m\u001b[0mk\u001b[0m\u001b[0;34m,\u001b[0m\u001b[0ml\u001b[0m\u001b[0;34m]\u001b[0m \u001b[0;32min\u001b[0m \u001b[0mintensity_thresh_arr\u001b[0m\u001b[0;34m)\u001b[0m \u001b[0;32mand\u001b[0m \u001b[0;34m(\u001b[0m\u001b[0mimage\u001b[0m\u001b[0;34m[\u001b[0m\u001b[0mm\u001b[0m\u001b[0;34m,\u001b[0m\u001b[0mn\u001b[0m\u001b[0;34m]\u001b[0m \u001b[0;32min\u001b[0m \u001b[0mintensity_thresh_arr\u001b[0m\u001b[0;34m)\u001b[0m\u001b[0;34m:\u001b[0m\u001b[0;34m\u001b[0m\u001b[0m\n\u001b[0m\u001b[1;32m     11\u001b[0m                         \u001b[0mdistance\u001b[0m \u001b[0;34m=\u001b[0m \u001b[0meuclidean\u001b[0m\u001b[0;34m(\u001b[0m\u001b[0;34m[\u001b[0m\u001b[0mk\u001b[0m\u001b[0;34m,\u001b[0m\u001b[0ml\u001b[0m\u001b[0;34m]\u001b[0m\u001b[0;34m,\u001b[0m\u001b[0;34m[\u001b[0m\u001b[0mm\u001b[0m\u001b[0;34m,\u001b[0m\u001b[0mn\u001b[0m\u001b[0;34m]\u001b[0m\u001b[0;34m)\u001b[0m\u001b[0;34m\u001b[0m\u001b[0m\n\u001b[1;32m     12\u001b[0m                         \u001b[0mprint\u001b[0m\u001b[0;34m(\u001b[0m\u001b[0;34m'in distance'\u001b[0m\u001b[0;34m)\u001b[0m\u001b[0;34m\u001b[0m\u001b[0m\n",
      "\u001b[0;31mKeyboardInterrupt\u001b[0m: "
     ]
    }
   ],
   "source": [
    "# print(2*n+1)\n",
    "# print ((1-5)%7)\n",
    "stego_image = emd_embedding(img_copy)\n",
    "print(stego_image)\n",
    "cv2.imwrite(\"../output/Sparse_stego.tif\",stego_image)\n"
   ]
  },
  {
   "cell_type": "code",
   "execution_count": 38,
   "metadata": {},
   "outputs": [],
   "source": [
    "# img_stego = cv2.imread('../output/Sparse_stego.tif',cv2.IMREAD_GRAYSCALE)\n",
    "# rows1 , cols1 = img_stego.shape\n",
    "# smod_ex = 0\n",
    "\n",
    "# def emd_extraction(image):\n",
    "    \n",
    "                \n",
    "#                 print('extracted value', abc)\n",
    "    \n",
    "    "
   ]
  }
 ],
 "metadata": {
  "kernelspec": {
   "display_name": "Python 3",
   "language": "python",
   "name": "python3"
  },
  "language_info": {
   "codemirror_mode": {
    "name": "ipython",
    "version": 3
   },
   "file_extension": ".py",
   "mimetype": "text/x-python",
   "name": "python",
   "nbconvert_exporter": "python",
   "pygments_lexer": "ipython3",
   "version": "3.6.5"
  }
 },
 "nbformat": 4,
 "nbformat_minor": 2
}
