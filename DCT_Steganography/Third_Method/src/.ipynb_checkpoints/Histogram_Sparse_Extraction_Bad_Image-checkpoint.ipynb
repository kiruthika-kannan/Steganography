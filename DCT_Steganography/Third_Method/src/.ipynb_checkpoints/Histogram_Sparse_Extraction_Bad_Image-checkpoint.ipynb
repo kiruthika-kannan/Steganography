{
 "cells": [
  {
   "cell_type": "code",
   "execution_count": 21,
   "metadata": {},
   "outputs": [],
   "source": [
    "import numpy as np\n",
    "import cv2\n",
    "import math\n",
    "\n",
    "img_stego = cv2.imread('../output/Sparse_Lotus_stego.tif',cv2.IMREAD_GRAYSCALE)\n",
    "rows , cols = img_stego.shape\n",
    "img_stego_copy = img_stego.copy()\n",
    "# print(type(img), img.shape)\n",
    "\n",
    "# img_label = np.zeros((rows,cols), dtype = np.uint8)#array for labels\n",
    "# print(img_label.shape)\n",
    "\n",
    "# #print(img)\n",
    "\n",
    "\n",
    "# secret_text = ['conference' ]\n",
    "# asciival = []\n",
    "# asciival = [ord(ch) for word in secret_text for ch in word]\n",
    "\n",
    "# secret_arr = np.array(asciival)\n",
    "# print('ascii value of secret data', secret_arr)\n",
    "\n",
    "# print('length of secret data', len(secret_arr))\n",
    "# s_len= len(secret_arr)\n",
    "\n",
    "\n"
   ]
  },
  {
   "cell_type": "code",
   "execution_count": 22,
   "metadata": {},
   "outputs": [],
   "source": [
    "def euclidean(pixel1, pixel2):\n",
    "    '''calculate the euclidean distance\n",
    "    input: numpy.arrays or lists\n",
    "    return: euclidean distance\n",
    "    '''\n",
    "    dist = [(a - b)**2 for a, b in zip(pixel1, pixel2)]\n",
    "    dist = math.sqrt(sum(dist))    \n",
    "   \n",
    "    return dist\n",
    "\n",
    "#euclidean([0,0],[1,1])\n",
    " "
   ]
  },
  {
   "cell_type": "code",
   "execution_count": 23,
   "metadata": {},
   "outputs": [],
   "source": [
    "# prints intensities in range[0 to 255] with corresponding pixel count\n",
    "def histogram(img):\n",
    "    height = img.shape[0]\n",
    "    width = img.shape[1]\n",
    "\n",
    "    hist = np.zeros((256,),dtype='int')\n",
    "    #print(hist.shape)   \n",
    "    \n",
    "    for i in np.arange(height):\n",
    "        for j in np.arange(width):\n",
    "            a = img.item(i,j)\n",
    "            #print(a)\n",
    "            hist[a] = hist[a]+1\n",
    "    #print('Frequency count for Intensity range 0 to 255 :\\n', hist)        \n",
    "    return hist\n",
    "    \n",
    "\n",
    "t_hist = histogram(img_stego_copy)\n",
    "#print(type(t))\n",
    "#print(len(t))"
   ]
  },
  {
   "cell_type": "code",
   "execution_count": 24,
   "metadata": {},
   "outputs": [
    {
     "name": "stdout",
     "output_type": "stream",
     "text": [
      "frequencies with pixel counts less than 1000 [0, 58, 1022, 1056, 966, 1012, 925, 867, 875, 875, 850, 824, 758, 774, 805, 784, 735, 790, 828, 971, 1038, 1025, 1054, 1096, 968, 1026, 1097, 1078, 1087, 1057, 1079, 1054, 1072, 1062, 1094, 984, 1086, 1079, 1067, 1092, 903, 1088, 1088, 1031, 1095, 1046, 954, 978, 1095, 1005, 933, 854, 992, 771, 846, 708, 506, 403, 366, 420, 392, 333, 347, 296, 311, 334, 329, 435, 406, 401, 254, 148, 189, 135, 14, 0, 0, 0, 0, 0]\n",
      "<class 'numpy.ndarray'>\n",
      "intensities with pixel count less than 1000 [  0   1   2   3  10  12  13  14  15  16  17  18  19  20  21  22  23  24\n",
      "  25  26  27 166 167 168 169 170 171 172 173 174 175 187 188 194 197 198\n",
      " 199 201 202 204 206 208 215 218 219 220 222 223 224 225 226 227 228 229\n",
      " 230 231 232 233 234 235 236 237 238 239 240 241 242 243 244 245 246 247\n",
      " 248 249 250 251 252 253 254 255]\n"
     ]
    }
   ],
   "source": [
    "#intensity list of sparse pixels\n",
    "thresh = 1100\n",
    "thresholded_freq_arr  = [val for val in t_hist if val < thresh ]\n",
    "print('frequencies with pixel counts less than 1000',thresholded_freq_arr)\n",
    "\n",
    "intensity_thresh_list = list()\n",
    "for i in range(0, len(t_hist)):\n",
    "    val = t_hist[i]\n",
    "    if val<thresh:\n",
    "        intensity_thresh_list.append(i)   \n",
    "\n",
    "intensity_thresh_arr = np.array(intensity_thresh_list)\n",
    "print(type(intensity_thresh_arr))\n",
    "print('intensities with pixel count less than 1000',intensity_thresh_arr) "
   ]
  },
  {
   "cell_type": "code",
   "execution_count": 25,
   "metadata": {},
   "outputs": [],
   "source": [
    "#Create empty secret array\n",
    "s_len =10\n",
    "z1 = np.empty(s_len , dtype = '<U10')        "
   ]
  },
  {
   "cell_type": "code",
   "execution_count": 26,
   "metadata": {},
   "outputs": [],
   "source": [
    "#LSB substitution for sparse pixels with large euclidean distance\n",
    "def extraction(image):\n",
    "    t =0\n",
    "    distance = 0\n",
    "    for k in range(0,rows):\n",
    "        for l in range(0,cols):\n",
    "            for m in range(k,rows):\n",
    "                for n in range(l,cols):\n",
    "                    #print(image[m,n] in intensity_thresh_arr)\n",
    "                    if (image[k,l] in intensity_thresh_arr) and (image[m,n] in intensity_thresh_arr):\n",
    "                        distance = euclidean([k,l],[m,n])\n",
    "                        print('in distance',distance)\n",
    "                    if t == s_len:\n",
    "                        print('in t == s_len')\n",
    "                        break\n",
    "                        #t = 0\n",
    "                    #print(t,distance)\n",
    "                    #lsb substitution\n",
    "                    #if((distance>400) and (image[k,l] in intensity_thresh_arr) and (image[m,n] in intensity_thresh_arr) and (t<s_len)):\n",
    "                    if((distance>200) and (image[k,l] in intensity_thresh_arr) and (image[m,n] in intensity_thresh_arr) and (t<s_len)):\n",
    "                        z2 = image[m,n]\n",
    "                        z2_bin = format(z2, \"08b\")\n",
    "                        z2_bin_msb = z2_bin[0:4]\n",
    "                        z2_bin_lsb = z2_bin[4:8] \n",
    "                        z2_bin_split = z2_bin_msb + '0000'#reconstructed image pixel\n",
    "                        z1[t] = z2_bin_lsb + '0000'#Reconstructed secret data\n",
    "                        \n",
    "                        image[m,n]=int(z2_bin_split, 2)\n",
    "                        print([m,n])\n",
    "                        print(z2,int(z2_bin_split, 2))\n",
    "                        print(z2_bin_split,z1[t],t)\n",
    "                        t=t+1\n",
    "            if t == s_len:\n",
    "                break  \n",
    "    return image , z1\n",
    "\n",
    "# "
   ]
  },
  {
   "cell_type": "code",
   "execution_count": 27,
   "metadata": {},
   "outputs": [
    {
     "ename": "KeyboardInterrupt",
     "evalue": "",
     "output_type": "error",
     "traceback": [
      "\u001b[0;31m---------------------------------------------------------------------------\u001b[0m",
      "\u001b[0;31mKeyboardInterrupt\u001b[0m                         Traceback (most recent call last)",
      "\u001b[0;32m<ipython-input-27-5c7802924e6c>\u001b[0m in \u001b[0;36m<module>\u001b[0;34m()\u001b[0m\n\u001b[0;32m----> 1\u001b[0;31m \u001b[0mimg_ex\u001b[0m\u001b[0;34m,\u001b[0m \u001b[0mz1_ex\u001b[0m \u001b[0;34m=\u001b[0m \u001b[0mextraction\u001b[0m\u001b[0;34m(\u001b[0m\u001b[0mimg_stego_copy\u001b[0m\u001b[0;34m)\u001b[0m\u001b[0;34m\u001b[0m\u001b[0m\n\u001b[0m\u001b[1;32m      2\u001b[0m \u001b[0mprint\u001b[0m\u001b[0;34m(\u001b[0m\u001b[0mimg_ex\u001b[0m\u001b[0;34m,\u001b[0m \u001b[0mz1_ex\u001b[0m\u001b[0;34m)\u001b[0m\u001b[0;34m\u001b[0m\u001b[0m\n",
      "\u001b[0;32m<ipython-input-26-ca9ee87334b0>\u001b[0m in \u001b[0;36mextraction\u001b[0;34m(image)\u001b[0m\n\u001b[1;32m      8\u001b[0m                 \u001b[0;32mfor\u001b[0m \u001b[0mn\u001b[0m \u001b[0;32min\u001b[0m \u001b[0mrange\u001b[0m\u001b[0;34m(\u001b[0m\u001b[0ml\u001b[0m\u001b[0;34m,\u001b[0m\u001b[0mcols\u001b[0m\u001b[0;34m)\u001b[0m\u001b[0;34m:\u001b[0m\u001b[0;34m\u001b[0m\u001b[0m\n\u001b[1;32m      9\u001b[0m                     \u001b[0;31m#print(image[m,n] in intensity_thresh_arr)\u001b[0m\u001b[0;34m\u001b[0m\u001b[0;34m\u001b[0m\u001b[0m\n\u001b[0;32m---> 10\u001b[0;31m                     \u001b[0;32mif\u001b[0m \u001b[0;34m(\u001b[0m\u001b[0mimage\u001b[0m\u001b[0;34m[\u001b[0m\u001b[0mk\u001b[0m\u001b[0;34m,\u001b[0m\u001b[0ml\u001b[0m\u001b[0;34m]\u001b[0m \u001b[0;32min\u001b[0m \u001b[0mintensity_thresh_arr\u001b[0m\u001b[0;34m)\u001b[0m \u001b[0;32mand\u001b[0m \u001b[0;34m(\u001b[0m\u001b[0mimage\u001b[0m\u001b[0;34m[\u001b[0m\u001b[0mm\u001b[0m\u001b[0;34m,\u001b[0m\u001b[0mn\u001b[0m\u001b[0;34m]\u001b[0m \u001b[0;32min\u001b[0m \u001b[0mintensity_thresh_arr\u001b[0m\u001b[0;34m)\u001b[0m\u001b[0;34m:\u001b[0m\u001b[0;34m\u001b[0m\u001b[0m\n\u001b[0m\u001b[1;32m     11\u001b[0m                         \u001b[0mdistance\u001b[0m \u001b[0;34m=\u001b[0m \u001b[0meuclidean\u001b[0m\u001b[0;34m(\u001b[0m\u001b[0;34m[\u001b[0m\u001b[0mk\u001b[0m\u001b[0;34m,\u001b[0m\u001b[0ml\u001b[0m\u001b[0;34m]\u001b[0m\u001b[0;34m,\u001b[0m\u001b[0;34m[\u001b[0m\u001b[0mm\u001b[0m\u001b[0;34m,\u001b[0m\u001b[0mn\u001b[0m\u001b[0;34m]\u001b[0m\u001b[0;34m)\u001b[0m\u001b[0;34m\u001b[0m\u001b[0m\n\u001b[1;32m     12\u001b[0m                         \u001b[0mprint\u001b[0m\u001b[0;34m(\u001b[0m\u001b[0;34m'in distance'\u001b[0m\u001b[0;34m,\u001b[0m\u001b[0mdistance\u001b[0m\u001b[0;34m)\u001b[0m\u001b[0;34m\u001b[0m\u001b[0m\n",
      "\u001b[0;31mKeyboardInterrupt\u001b[0m: "
     ]
    }
   ],
   "source": [
    "img_ex, z1_ex = extraction(img_stego_copy)\n",
    "print(img_ex, z1_ex)"
   ]
  },
  {
   "cell_type": "code",
   "execution_count": null,
   "metadata": {},
   "outputs": [],
   "source": [
    "\n",
    "secret_out = np.zeros(s_len , np.int)\n",
    "print(int(z1_ex[0],2))\n",
    "\n",
    "for x in range(0, s_len):\n",
    "    if z1_ex[x] not in '':\n",
    "        secret_out[x] = int(z1_ex[x],2)\n",
    "        \n",
    "print(secret_out)"
   ]
  }
 ],
 "metadata": {
  "kernelspec": {
   "display_name": "Python 3",
   "language": "python",
   "name": "python3"
  },
  "language_info": {
   "codemirror_mode": {
    "name": "ipython",
    "version": 3
   },
   "file_extension": ".py",
   "mimetype": "text/x-python",
   "name": "python",
   "nbconvert_exporter": "python",
   "pygments_lexer": "ipython3",
   "version": "3.6.5"
  }
 },
 "nbformat": 4,
 "nbformat_minor": 2
}
